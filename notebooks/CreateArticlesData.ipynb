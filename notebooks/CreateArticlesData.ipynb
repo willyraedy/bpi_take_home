{
 "cells": [
  {
   "cell_type": "code",
   "execution_count": 141,
   "metadata": {},
   "outputs": [
    {
     "name": "stdout",
     "output_type": "stream",
     "text": [
      "The autoreload extension is already loaded. To reload it, use:\n",
      "  %reload_ext autoreload\n"
     ]
    }
   ],
   "source": [
    "%load_ext autoreload\n",
    "%autoreload 1\n",
    "\n",
    "import sys\n",
    "sys.path.append('../src')\n",
    "\n",
    "from data import news_articles, tone\n",
    "\n",
    "%aimport data.news_articles\n",
    "%aimport data.tone"
   ]
  },
  {
   "cell_type": "code",
   "execution_count": 142,
   "metadata": {},
   "outputs": [],
   "source": [
    "import requests\n",
    "import pandas as pd\n",
    "from vaderSentiment.vaderSentiment import SentimentIntensityAnalyzer\n",
    "import numpy as np"
   ]
  },
  {
   "cell_type": "markdown",
   "metadata": {},
   "source": [
    "# Fetch News Articles"
   ]
  },
  {
   "cell_type": "code",
   "execution_count": 13,
   "metadata": {},
   "outputs": [],
   "source": [
    "relevant_candidates = [\n",
    "    'Klobuchar',\n",
    "    'Bloomberg',\n",
    "    'Buttigieg',\n",
    "    'Biden',\n",
    "    'Warren',\n",
    "    'Sanders',\n",
    "]"
   ]
  },
  {
   "cell_type": "code",
   "execution_count": 43,
   "metadata": {},
   "outputs": [],
   "source": [
    "article_data = news_articles.fetch_for_candidates(relevant_candidates)\n",
    "df_articles = pd.DataFrame.from_records(article_data)"
   ]
  },
  {
   "cell_type": "code",
   "execution_count": 209,
   "metadata": {},
   "outputs": [],
   "source": [
    "df_articles.to_csv('../data/raw/articles.csv')"
   ]
  },
  {
   "cell_type": "markdown",
   "metadata": {},
   "source": [
    "# Fetch Full Content"
   ]
  },
  {
   "cell_type": "code",
   "execution_count": 56,
   "metadata": {},
   "outputs": [],
   "source": [
    "article_urls = df_articles['url'].values"
   ]
  },
  {
   "cell_type": "code",
   "execution_count": 67,
   "metadata": {},
   "outputs": [],
   "source": [
    "def track_full_text_fetch(urls):\n",
    "    count = 0\n",
    "    full_text_records = []\n",
    "    for url in urls:\n",
    "        count += 1\n",
    "        print(count)\n",
    "        full_text_records.append(news_articles.fetch_full_text(url))\n",
    "    return full_text_records"
   ]
  },
  {
   "cell_type": "code",
   "execution_count": null,
   "metadata": {},
   "outputs": [],
   "source": [
    "article_text_records = track_full_text_fetch(article_urls)"
   ]
  },
  {
   "cell_type": "code",
   "execution_count": 72,
   "metadata": {},
   "outputs": [],
   "source": [
    "full_text = pd.DataFrame.from_records(article_text_records)"
   ]
  },
  {
   "cell_type": "code",
   "execution_count": 210,
   "metadata": {},
   "outputs": [],
   "source": [
    "full_text.to_csv('../data/raw/articles_full_text.csv')"
   ]
  },
  {
   "cell_type": "markdown",
   "metadata": {},
   "source": [
    "# Combine"
   ]
  },
  {
   "cell_type": "code",
   "execution_count": 211,
   "metadata": {},
   "outputs": [],
   "source": [
    "df_articles_loaded = pd.read_csv('../data/raw/articles.csv')\n",
    "full_text_loaded = pd.read_csv('../data/raw/articles_full_text.csv')"
   ]
  },
  {
   "cell_type": "code",
   "execution_count": 258,
   "metadata": {},
   "outputs": [],
   "source": [
    "articles_merged = pd.concat([df_articles_loaded, full_text_loaded], axis=1)\n",
    "articles_merged = articles_merged.loc[:,~articles_merged.columns.duplicated()]"
   ]
  },
  {
   "cell_type": "markdown",
   "metadata": {},
   "source": [
    "# Sentiment"
   ]
  },
  {
   "cell_type": "code",
   "execution_count": 223,
   "metadata": {},
   "outputs": [],
   "source": [
    "articles_sent = articles_merged.copy()"
   ]
  },
  {
   "cell_type": "code",
   "execution_count": 79,
   "metadata": {},
   "outputs": [],
   "source": [
    "analyzer = SentimentIntensityAnalyzer()\n",
    "desc_sent = articles_full.description.map(lambda d: analyzer.polarity_scores(d)['compound'])\n",
    "full_text_sent = articles_full.text.map(lambda d: analyzer.polarity_scores(d)['compound'])"
   ]
  },
  {
   "cell_type": "code",
   "execution_count": 82,
   "metadata": {},
   "outputs": [],
   "source": [
    "articles_sent['desc_sentiment'] = desc_sent\n",
    "articles_sent['full_text_sentiment'] = full_text_sent"
   ]
  },
  {
   "cell_type": "markdown",
   "metadata": {},
   "source": [
    "# Tone"
   ]
  },
  {
   "cell_type": "code",
   "execution_count": 283,
   "metadata": {},
   "outputs": [],
   "source": [
    "articles_tone = articles_sent.copy()"
   ]
  },
  {
   "cell_type": "markdown",
   "metadata": {},
   "source": [
    "## Fetch"
   ]
  },
  {
   "cell_type": "code",
   "execution_count": null,
   "metadata": {},
   "outputs": [],
   "source": [
    "desc_tone = articles_tone.description.map(tone.get)"
   ]
  },
  {
   "cell_type": "code",
   "execution_count": null,
   "metadata": {},
   "outputs": [],
   "source": [
    "full_text_tone = articles_tone.text.map(tone.get)"
   ]
  },
  {
   "cell_type": "code",
   "execution_count": 95,
   "metadata": {},
   "outputs": [],
   "source": [
    "articles_tone['raw_desc_tone'] = desc_tone\n",
    "articles_tone['raw_text_tone'] = full_text_tone"
   ]
  },
  {
   "cell_type": "markdown",
   "metadata": {},
   "source": [
    "## Proccess"
   ]
  },
  {
   "cell_type": "code",
   "execution_count": 143,
   "metadata": {},
   "outputs": [],
   "source": [
    "for t in ['analytical', 'anger', 'confident', 'fear', 'joy', 'sadness', 'tentative']:\n",
    "    articles_tone['desc_' + t] = articles_tone.raw_desc_tone.map(lambda d: tone.extract_score(d, t))\n",
    "    articles_tone['full_text_' + t] = articles_tone.raw_text_tone.map(lambda d: tone.extract_score(d, t))"
   ]
  },
  {
   "cell_type": "markdown",
   "metadata": {},
   "source": [
    "# Persist"
   ]
  },
  {
   "cell_type": "code",
   "execution_count": 269,
   "metadata": {},
   "outputs": [],
   "source": [
    "articles_tone.to_csv('../data/interim/candidate_articles_enriched.csv')"
   ]
  },
  {
   "cell_type": "markdown",
   "metadata": {},
   "source": [
    "# Sentence Data"
   ]
  },
  {
   "cell_type": "code",
   "execution_count": 270,
   "metadata": {},
   "outputs": [],
   "source": [
    "def process_and_add_sentence_row(records, raw_row):\n",
    "    if not raw_row['raw_text_tone'].get('sentences_tone'):\n",
    "        records.append({'url': raw_row['url'], 'query': raw_row['query']})\n",
    "        return\n",
    "    \n",
    "    for sent_data in raw_row['raw_text_tone']['sentences_tone']:\n",
    "        sent_row = {'url': raw_row['url'], 'query': raw_row['query']}\n",
    "        sent_row.update(sent_data)\n",
    "        for t in ['analytical', 'anger', 'confident', 'fear', 'joy', 'sadness', 'tentative']:\n",
    "            sent_row[t + '_score'] = tone.extract_score_from_tones(sent_row['tones'], t) \n",
    "        del sent_row['tones']\n",
    "        records.append(sent_row)"
   ]
  },
  {
   "cell_type": "code",
   "execution_count": null,
   "metadata": {},
   "outputs": [],
   "source": [
    "sentence_records = []\n",
    "articles_tone.apply(lambda r: process_and_add_sentence_row(sentence_records, r), axis=1)\n",
    "df_sentences = pd.DataFrame.from_records(sentence_records)"
   ]
  },
  {
   "cell_type": "code",
   "execution_count": 293,
   "metadata": {},
   "outputs": [],
   "source": [
    "df_sentences.to_csv('../data/raw/articles_sentences.csv')"
   ]
  },
  {
   "cell_type": "code",
   "execution_count": null,
   "metadata": {},
   "outputs": [],
   "source": []
  }
 ],
 "metadata": {
  "kernelspec": {
   "display_name": "Python [conda env:metis] *",
   "language": "python",
   "name": "conda-env-metis-py"
  },
  "language_info": {
   "codemirror_mode": {
    "name": "ipython",
    "version": 3
   },
   "file_extension": ".py",
   "mimetype": "text/x-python",
   "name": "python",
   "nbconvert_exporter": "python",
   "pygments_lexer": "ipython3",
   "version": "3.7.4"
  },
  "toc": {
   "base_numbering": 1,
   "nav_menu": {},
   "number_sections": true,
   "sideBar": true,
   "skip_h1_title": false,
   "title_cell": "Table of Contents",
   "title_sidebar": "Contents",
   "toc_cell": false,
   "toc_position": {},
   "toc_section_display": true,
   "toc_window_display": false
  }
 },
 "nbformat": 4,
 "nbformat_minor": 4
}
